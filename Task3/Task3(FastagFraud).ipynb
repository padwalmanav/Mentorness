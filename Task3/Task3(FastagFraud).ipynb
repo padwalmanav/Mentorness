{
  "nbformat": 4,
  "nbformat_minor": 0,
  "metadata": {
    "colab": {
      "provenance": []
    },
    "kernelspec": {
      "name": "python3",
      "display_name": "Python 3"
    },
    "language_info": {
      "name": "python"
    }
  },
  "cells": [
    {
      "cell_type": "code",
      "source": [
        "import numpy as np\n",
        "import pandas as pd"
      ],
      "metadata": {
        "id": "94SzS9CE5QxM"
      },
      "execution_count": 1,
      "outputs": []
    },
    {
      "cell_type": "code",
      "source": [
        "df=pd.read_csv(\"FastagFraudDetection.csv\")\n",
        "df.head()"
      ],
      "metadata": {
        "colab": {
          "base_uri": "https://localhost:8080/",
          "height": 293
        },
        "id": "VfDnlNs_5Qr6",
        "outputId": "8f349e8f-da28-4289-83a3-2beb89a18494"
      },
      "execution_count": 2,
      "outputs": [
        {
          "output_type": "execute_result",
          "data": {
            "text/plain": [
              "   Transaction_ID       Timestamp Vehicle_Type         FastagID TollBoothID  \\\n",
              "0               1  1/6/2023 11:20         Bus   FTG-001-ABC-121       A-101   \n",
              "1               2  1/7/2023 14:55          Car  FTG-002-XYZ-451       B-102   \n",
              "2               3  1/8/2023 18:25   Motorcycle              NaN       D-104   \n",
              "3               4   1/9/2023 2:05        Truck  FTG-044-LMN-322       C-103   \n",
              "4               5  1/10/2023 6:35          Van  FTG-505-DEF-652       B-102   \n",
              "\n",
              "  Lane_Type Vehicle_Dimensions  Transaction_Amount  Amount_paid  \\\n",
              "0   Express              Large                 350          120   \n",
              "1   Regular              Small                 120          100   \n",
              "2   Regular              Small                   0            0   \n",
              "3   Regular              Large                 350          120   \n",
              "4   Express             Medium                 140          100   \n",
              "\n",
              "                   Geographical_Location  Vehicle_Speed Vehicle_Plate_Number  \\\n",
              "0  13.059816123454882, 77.77068662374292             65           KA11AB1234   \n",
              "1  13.059816123454882, 77.77068662374292             78           KA66CD5678   \n",
              "2  13.059816123454882, 77.77068662374292             53           KA88EF9012   \n",
              "3  13.059816123454882, 77.77068662374292             92           KA11GH3456   \n",
              "4  13.059816123454882, 77.77068662374292             60           KA44IJ6789   \n",
              "\n",
              "  Fraud_indicator  \n",
              "0           Fraud  \n",
              "1           Fraud  \n",
              "2       Not Fraud  \n",
              "3           Fraud  \n",
              "4           Fraud  "
            ],
            "text/html": [
              "\n",
              "  <div id=\"df-ef353304-acc7-4feb-b735-dc1600a41dea\" class=\"colab-df-container\">\n",
              "    <div>\n",
              "<style scoped>\n",
              "    .dataframe tbody tr th:only-of-type {\n",
              "        vertical-align: middle;\n",
              "    }\n",
              "\n",
              "    .dataframe tbody tr th {\n",
              "        vertical-align: top;\n",
              "    }\n",
              "\n",
              "    .dataframe thead th {\n",
              "        text-align: right;\n",
              "    }\n",
              "</style>\n",
              "<table border=\"1\" class=\"dataframe\">\n",
              "  <thead>\n",
              "    <tr style=\"text-align: right;\">\n",
              "      <th></th>\n",
              "      <th>Transaction_ID</th>\n",
              "      <th>Timestamp</th>\n",
              "      <th>Vehicle_Type</th>\n",
              "      <th>FastagID</th>\n",
              "      <th>TollBoothID</th>\n",
              "      <th>Lane_Type</th>\n",
              "      <th>Vehicle_Dimensions</th>\n",
              "      <th>Transaction_Amount</th>\n",
              "      <th>Amount_paid</th>\n",
              "      <th>Geographical_Location</th>\n",
              "      <th>Vehicle_Speed</th>\n",
              "      <th>Vehicle_Plate_Number</th>\n",
              "      <th>Fraud_indicator</th>\n",
              "    </tr>\n",
              "  </thead>\n",
              "  <tbody>\n",
              "    <tr>\n",
              "      <th>0</th>\n",
              "      <td>1</td>\n",
              "      <td>1/6/2023 11:20</td>\n",
              "      <td>Bus</td>\n",
              "      <td>FTG-001-ABC-121</td>\n",
              "      <td>A-101</td>\n",
              "      <td>Express</td>\n",
              "      <td>Large</td>\n",
              "      <td>350</td>\n",
              "      <td>120</td>\n",
              "      <td>13.059816123454882, 77.77068662374292</td>\n",
              "      <td>65</td>\n",
              "      <td>KA11AB1234</td>\n",
              "      <td>Fraud</td>\n",
              "    </tr>\n",
              "    <tr>\n",
              "      <th>1</th>\n",
              "      <td>2</td>\n",
              "      <td>1/7/2023 14:55</td>\n",
              "      <td>Car</td>\n",
              "      <td>FTG-002-XYZ-451</td>\n",
              "      <td>B-102</td>\n",
              "      <td>Regular</td>\n",
              "      <td>Small</td>\n",
              "      <td>120</td>\n",
              "      <td>100</td>\n",
              "      <td>13.059816123454882, 77.77068662374292</td>\n",
              "      <td>78</td>\n",
              "      <td>KA66CD5678</td>\n",
              "      <td>Fraud</td>\n",
              "    </tr>\n",
              "    <tr>\n",
              "      <th>2</th>\n",
              "      <td>3</td>\n",
              "      <td>1/8/2023 18:25</td>\n",
              "      <td>Motorcycle</td>\n",
              "      <td>NaN</td>\n",
              "      <td>D-104</td>\n",
              "      <td>Regular</td>\n",
              "      <td>Small</td>\n",
              "      <td>0</td>\n",
              "      <td>0</td>\n",
              "      <td>13.059816123454882, 77.77068662374292</td>\n",
              "      <td>53</td>\n",
              "      <td>KA88EF9012</td>\n",
              "      <td>Not Fraud</td>\n",
              "    </tr>\n",
              "    <tr>\n",
              "      <th>3</th>\n",
              "      <td>4</td>\n",
              "      <td>1/9/2023 2:05</td>\n",
              "      <td>Truck</td>\n",
              "      <td>FTG-044-LMN-322</td>\n",
              "      <td>C-103</td>\n",
              "      <td>Regular</td>\n",
              "      <td>Large</td>\n",
              "      <td>350</td>\n",
              "      <td>120</td>\n",
              "      <td>13.059816123454882, 77.77068662374292</td>\n",
              "      <td>92</td>\n",
              "      <td>KA11GH3456</td>\n",
              "      <td>Fraud</td>\n",
              "    </tr>\n",
              "    <tr>\n",
              "      <th>4</th>\n",
              "      <td>5</td>\n",
              "      <td>1/10/2023 6:35</td>\n",
              "      <td>Van</td>\n",
              "      <td>FTG-505-DEF-652</td>\n",
              "      <td>B-102</td>\n",
              "      <td>Express</td>\n",
              "      <td>Medium</td>\n",
              "      <td>140</td>\n",
              "      <td>100</td>\n",
              "      <td>13.059816123454882, 77.77068662374292</td>\n",
              "      <td>60</td>\n",
              "      <td>KA44IJ6789</td>\n",
              "      <td>Fraud</td>\n",
              "    </tr>\n",
              "  </tbody>\n",
              "</table>\n",
              "</div>\n",
              "    <div class=\"colab-df-buttons\">\n",
              "\n",
              "  <div class=\"colab-df-container\">\n",
              "    <button class=\"colab-df-convert\" onclick=\"convertToInteractive('df-ef353304-acc7-4feb-b735-dc1600a41dea')\"\n",
              "            title=\"Convert this dataframe to an interactive table.\"\n",
              "            style=\"display:none;\">\n",
              "\n",
              "  <svg xmlns=\"http://www.w3.org/2000/svg\" height=\"24px\" viewBox=\"0 -960 960 960\">\n",
              "    <path d=\"M120-120v-720h720v720H120Zm60-500h600v-160H180v160Zm220 220h160v-160H400v160Zm0 220h160v-160H400v160ZM180-400h160v-160H180v160Zm440 0h160v-160H620v160ZM180-180h160v-160H180v160Zm440 0h160v-160H620v160Z\"/>\n",
              "  </svg>\n",
              "    </button>\n",
              "\n",
              "  <style>\n",
              "    .colab-df-container {\n",
              "      display:flex;\n",
              "      gap: 12px;\n",
              "    }\n",
              "\n",
              "    .colab-df-convert {\n",
              "      background-color: #E8F0FE;\n",
              "      border: none;\n",
              "      border-radius: 50%;\n",
              "      cursor: pointer;\n",
              "      display: none;\n",
              "      fill: #1967D2;\n",
              "      height: 32px;\n",
              "      padding: 0 0 0 0;\n",
              "      width: 32px;\n",
              "    }\n",
              "\n",
              "    .colab-df-convert:hover {\n",
              "      background-color: #E2EBFA;\n",
              "      box-shadow: 0px 1px 2px rgba(60, 64, 67, 0.3), 0px 1px 3px 1px rgba(60, 64, 67, 0.15);\n",
              "      fill: #174EA6;\n",
              "    }\n",
              "\n",
              "    .colab-df-buttons div {\n",
              "      margin-bottom: 4px;\n",
              "    }\n",
              "\n",
              "    [theme=dark] .colab-df-convert {\n",
              "      background-color: #3B4455;\n",
              "      fill: #D2E3FC;\n",
              "    }\n",
              "\n",
              "    [theme=dark] .colab-df-convert:hover {\n",
              "      background-color: #434B5C;\n",
              "      box-shadow: 0px 1px 3px 1px rgba(0, 0, 0, 0.15);\n",
              "      filter: drop-shadow(0px 1px 2px rgba(0, 0, 0, 0.3));\n",
              "      fill: #FFFFFF;\n",
              "    }\n",
              "  </style>\n",
              "\n",
              "    <script>\n",
              "      const buttonEl =\n",
              "        document.querySelector('#df-ef353304-acc7-4feb-b735-dc1600a41dea button.colab-df-convert');\n",
              "      buttonEl.style.display =\n",
              "        google.colab.kernel.accessAllowed ? 'block' : 'none';\n",
              "\n",
              "      async function convertToInteractive(key) {\n",
              "        const element = document.querySelector('#df-ef353304-acc7-4feb-b735-dc1600a41dea');\n",
              "        const dataTable =\n",
              "          await google.colab.kernel.invokeFunction('convertToInteractive',\n",
              "                                                    [key], {});\n",
              "        if (!dataTable) return;\n",
              "\n",
              "        const docLinkHtml = 'Like what you see? Visit the ' +\n",
              "          '<a target=\"_blank\" href=https://colab.research.google.com/notebooks/data_table.ipynb>data table notebook</a>'\n",
              "          + ' to learn more about interactive tables.';\n",
              "        element.innerHTML = '';\n",
              "        dataTable['output_type'] = 'display_data';\n",
              "        await google.colab.output.renderOutput(dataTable, element);\n",
              "        const docLink = document.createElement('div');\n",
              "        docLink.innerHTML = docLinkHtml;\n",
              "        element.appendChild(docLink);\n",
              "      }\n",
              "    </script>\n",
              "  </div>\n",
              "\n",
              "\n",
              "<div id=\"df-729be23d-9c7f-47cc-9eb4-970a2a7935f3\">\n",
              "  <button class=\"colab-df-quickchart\" onclick=\"quickchart('df-729be23d-9c7f-47cc-9eb4-970a2a7935f3')\"\n",
              "            title=\"Suggest charts\"\n",
              "            style=\"display:none;\">\n",
              "\n",
              "<svg xmlns=\"http://www.w3.org/2000/svg\" height=\"24px\"viewBox=\"0 0 24 24\"\n",
              "     width=\"24px\">\n",
              "    <g>\n",
              "        <path d=\"M19 3H5c-1.1 0-2 .9-2 2v14c0 1.1.9 2 2 2h14c1.1 0 2-.9 2-2V5c0-1.1-.9-2-2-2zM9 17H7v-7h2v7zm4 0h-2V7h2v10zm4 0h-2v-4h2v4z\"/>\n",
              "    </g>\n",
              "</svg>\n",
              "  </button>\n",
              "\n",
              "<style>\n",
              "  .colab-df-quickchart {\n",
              "      --bg-color: #E8F0FE;\n",
              "      --fill-color: #1967D2;\n",
              "      --hover-bg-color: #E2EBFA;\n",
              "      --hover-fill-color: #174EA6;\n",
              "      --disabled-fill-color: #AAA;\n",
              "      --disabled-bg-color: #DDD;\n",
              "  }\n",
              "\n",
              "  [theme=dark] .colab-df-quickchart {\n",
              "      --bg-color: #3B4455;\n",
              "      --fill-color: #D2E3FC;\n",
              "      --hover-bg-color: #434B5C;\n",
              "      --hover-fill-color: #FFFFFF;\n",
              "      --disabled-bg-color: #3B4455;\n",
              "      --disabled-fill-color: #666;\n",
              "  }\n",
              "\n",
              "  .colab-df-quickchart {\n",
              "    background-color: var(--bg-color);\n",
              "    border: none;\n",
              "    border-radius: 50%;\n",
              "    cursor: pointer;\n",
              "    display: none;\n",
              "    fill: var(--fill-color);\n",
              "    height: 32px;\n",
              "    padding: 0;\n",
              "    width: 32px;\n",
              "  }\n",
              "\n",
              "  .colab-df-quickchart:hover {\n",
              "    background-color: var(--hover-bg-color);\n",
              "    box-shadow: 0 1px 2px rgba(60, 64, 67, 0.3), 0 1px 3px 1px rgba(60, 64, 67, 0.15);\n",
              "    fill: var(--button-hover-fill-color);\n",
              "  }\n",
              "\n",
              "  .colab-df-quickchart-complete:disabled,\n",
              "  .colab-df-quickchart-complete:disabled:hover {\n",
              "    background-color: var(--disabled-bg-color);\n",
              "    fill: var(--disabled-fill-color);\n",
              "    box-shadow: none;\n",
              "  }\n",
              "\n",
              "  .colab-df-spinner {\n",
              "    border: 2px solid var(--fill-color);\n",
              "    border-color: transparent;\n",
              "    border-bottom-color: var(--fill-color);\n",
              "    animation:\n",
              "      spin 1s steps(1) infinite;\n",
              "  }\n",
              "\n",
              "  @keyframes spin {\n",
              "    0% {\n",
              "      border-color: transparent;\n",
              "      border-bottom-color: var(--fill-color);\n",
              "      border-left-color: var(--fill-color);\n",
              "    }\n",
              "    20% {\n",
              "      border-color: transparent;\n",
              "      border-left-color: var(--fill-color);\n",
              "      border-top-color: var(--fill-color);\n",
              "    }\n",
              "    30% {\n",
              "      border-color: transparent;\n",
              "      border-left-color: var(--fill-color);\n",
              "      border-top-color: var(--fill-color);\n",
              "      border-right-color: var(--fill-color);\n",
              "    }\n",
              "    40% {\n",
              "      border-color: transparent;\n",
              "      border-right-color: var(--fill-color);\n",
              "      border-top-color: var(--fill-color);\n",
              "    }\n",
              "    60% {\n",
              "      border-color: transparent;\n",
              "      border-right-color: var(--fill-color);\n",
              "    }\n",
              "    80% {\n",
              "      border-color: transparent;\n",
              "      border-right-color: var(--fill-color);\n",
              "      border-bottom-color: var(--fill-color);\n",
              "    }\n",
              "    90% {\n",
              "      border-color: transparent;\n",
              "      border-bottom-color: var(--fill-color);\n",
              "    }\n",
              "  }\n",
              "</style>\n",
              "\n",
              "  <script>\n",
              "    async function quickchart(key) {\n",
              "      const quickchartButtonEl =\n",
              "        document.querySelector('#' + key + ' button');\n",
              "      quickchartButtonEl.disabled = true;  // To prevent multiple clicks.\n",
              "      quickchartButtonEl.classList.add('colab-df-spinner');\n",
              "      try {\n",
              "        const charts = await google.colab.kernel.invokeFunction(\n",
              "            'suggestCharts', [key], {});\n",
              "      } catch (error) {\n",
              "        console.error('Error during call to suggestCharts:', error);\n",
              "      }\n",
              "      quickchartButtonEl.classList.remove('colab-df-spinner');\n",
              "      quickchartButtonEl.classList.add('colab-df-quickchart-complete');\n",
              "    }\n",
              "    (() => {\n",
              "      let quickchartButtonEl =\n",
              "        document.querySelector('#df-729be23d-9c7f-47cc-9eb4-970a2a7935f3 button');\n",
              "      quickchartButtonEl.style.display =\n",
              "        google.colab.kernel.accessAllowed ? 'block' : 'none';\n",
              "    })();\n",
              "  </script>\n",
              "</div>\n",
              "\n",
              "    </div>\n",
              "  </div>\n"
            ],
            "application/vnd.google.colaboratory.intrinsic+json": {
              "type": "dataframe",
              "variable_name": "df",
              "summary": "{\n  \"name\": \"df\",\n  \"rows\": 5000,\n  \"fields\": [\n    {\n      \"column\": \"Transaction_ID\",\n      \"properties\": {\n        \"dtype\": \"number\",\n        \"std\": 1443,\n        \"min\": 1,\n        \"max\": 5000,\n        \"num_unique_values\": 5000,\n        \"samples\": [\n          1502,\n          2587,\n          2654\n        ],\n        \"semantic_type\": \"\",\n        \"description\": \"\"\n      }\n    },\n    {\n      \"column\": \"Timestamp\",\n      \"properties\": {\n        \"dtype\": \"object\",\n        \"num_unique_values\": 4423,\n        \"samples\": [\n          \"6/25/2023 7:17\",\n          \"10/22/2023 2:04\",\n          \"2/5/2023 0:42\"\n        ],\n        \"semantic_type\": \"\",\n        \"description\": \"\"\n      }\n    },\n    {\n      \"column\": \"Vehicle_Type\",\n      \"properties\": {\n        \"dtype\": \"category\",\n        \"num_unique_values\": 7,\n        \"samples\": [\n          \"Bus \",\n          \"Car\",\n          \"Sedan\"\n        ],\n        \"semantic_type\": \"\",\n        \"description\": \"\"\n      }\n    },\n    {\n      \"column\": \"FastagID\",\n      \"properties\": {\n        \"dtype\": \"string\",\n        \"num_unique_values\": 4451,\n        \"samples\": [\n          \"FTG-580-DEF-850\",\n          \"FTG-083-PQR-333\",\n          \"FTG-125-EDC-765\"\n        ],\n        \"semantic_type\": \"\",\n        \"description\": \"\"\n      }\n    },\n    {\n      \"column\": \"TollBoothID\",\n      \"properties\": {\n        \"dtype\": \"category\",\n        \"num_unique_values\": 6,\n        \"samples\": [\n          \"A-101\",\n          \"B-102\",\n          \"D-106\"\n        ],\n        \"semantic_type\": \"\",\n        \"description\": \"\"\n      }\n    },\n    {\n      \"column\": \"Lane_Type\",\n      \"properties\": {\n        \"dtype\": \"category\",\n        \"num_unique_values\": 2,\n        \"samples\": [\n          \"Regular\",\n          \"Express\"\n        ],\n        \"semantic_type\": \"\",\n        \"description\": \"\"\n      }\n    },\n    {\n      \"column\": \"Vehicle_Dimensions\",\n      \"properties\": {\n        \"dtype\": \"category\",\n        \"num_unique_values\": 3,\n        \"samples\": [\n          \"Large\",\n          \"Small\"\n        ],\n        \"semantic_type\": \"\",\n        \"description\": \"\"\n      }\n    },\n    {\n      \"column\": \"Transaction_Amount\",\n      \"properties\": {\n        \"dtype\": \"number\",\n        \"std\": 112,\n        \"min\": 0,\n        \"max\": 350,\n        \"num_unique_values\": 20,\n        \"samples\": [\n          350,\n          330\n        ],\n        \"semantic_type\": \"\",\n        \"description\": \"\"\n      }\n    },\n    {\n      \"column\": \"Amount_paid\",\n      \"properties\": {\n        \"dtype\": \"number\",\n        \"std\": 106,\n        \"min\": 0,\n        \"max\": 350,\n        \"num_unique_values\": 23,\n        \"samples\": [\n          340,\n          60\n        ],\n        \"semantic_type\": \"\",\n        \"description\": \"\"\n      }\n    },\n    {\n      \"column\": \"Geographical_Location\",\n      \"properties\": {\n        \"dtype\": \"category\",\n        \"num_unique_values\": 5,\n        \"samples\": [\n          \"13.042660878688794, 77.47580097259879\",\n          \"13.21331620748757, 77.55413526894684\"\n        ],\n        \"semantic_type\": \"\",\n        \"description\": \"\"\n      }\n    },\n    {\n      \"column\": \"Vehicle_Speed\",\n      \"properties\": {\n        \"dtype\": \"number\",\n        \"std\": 16,\n        \"min\": 10,\n        \"max\": 118,\n        \"num_unique_values\": 85,\n        \"samples\": [\n          35,\n          65\n        ],\n        \"semantic_type\": \"\",\n        \"description\": \"\"\n      }\n    },\n    {\n      \"column\": \"Vehicle_Plate_Number\",\n      \"properties\": {\n        \"dtype\": \"string\",\n        \"num_unique_values\": 5000,\n        \"samples\": [\n          \"KA05CD5678\",\n          \"KA67LM4267\"\n        ],\n        \"semantic_type\": \"\",\n        \"description\": \"\"\n      }\n    },\n    {\n      \"column\": \"Fraud_indicator\",\n      \"properties\": {\n        \"dtype\": \"category\",\n        \"num_unique_values\": 2,\n        \"samples\": [\n          \"Not Fraud\",\n          \"Fraud\"\n        ],\n        \"semantic_type\": \"\",\n        \"description\": \"\"\n      }\n    }\n  ]\n}"
            }
          },
          "metadata": {},
          "execution_count": 2
        }
      ]
    },
    {
      "cell_type": "code",
      "source": [
        "df.dtypes"
      ],
      "metadata": {
        "colab": {
          "base_uri": "https://localhost:8080/"
        },
        "id": "C6jovqD2Ieuu",
        "outputId": "9a3fa8b5-e328-42eb-f49d-e364fc9b6506"
      },
      "execution_count": 3,
      "outputs": [
        {
          "output_type": "execute_result",
          "data": {
            "text/plain": [
              "Transaction_ID            int64\n",
              "Timestamp                object\n",
              "Vehicle_Type             object\n",
              "FastagID                 object\n",
              "TollBoothID              object\n",
              "Lane_Type                object\n",
              "Vehicle_Dimensions       object\n",
              "Transaction_Amount        int64\n",
              "Amount_paid               int64\n",
              "Geographical_Location    object\n",
              "Vehicle_Speed             int64\n",
              "Vehicle_Plate_Number     object\n",
              "Fraud_indicator          object\n",
              "dtype: object"
            ]
          },
          "metadata": {},
          "execution_count": 3
        }
      ]
    },
    {
      "cell_type": "markdown",
      "source": [
        "# EDA"
      ],
      "metadata": {
        "id": "HoSMmEz4JHcz"
      }
    },
    {
      "cell_type": "code",
      "source": [
        "import matplotlib.pyplot as plt\n",
        "import seaborn as sns"
      ],
      "metadata": {
        "id": "Whx87HAWRxww"
      },
      "execution_count": 4,
      "outputs": []
    },
    {
      "cell_type": "code",
      "source": [
        "plt.figure(figsize=(10, 6))\n",
        "sns.countplot(x='Fraud_indicator', data=df)\n",
        "plt.title('Fraud Indicator Distribution')\n",
        "plt.show()"
      ],
      "metadata": {
        "colab": {
          "base_uri": "https://localhost:8080/",
          "height": 564
        },
        "id": "IUofw1iKobZl",
        "outputId": "109065b2-859e-431a-9974-367957f51172"
      },
      "execution_count": 5,
      "outputs": [
        {
          "output_type": "display_data",
          "data": {
            "text/plain": [
              "<Figure size 1000x600 with 1 Axes>"
            ],
            "image/png": "[encoded data removed]"
          },
          "metadata": {}
        }
      ]
    },
    {
      "cell_type": "code",
      "source": [
        "plt.figure(figsize=(12, 6))\n",
        "sns.boxplot(x='Fraud_indicator', y='Transaction_Amount', data=df,palette='Set2')\n",
        "plt.title('Transaction Amount vs Fraud Indicator')\n",
        "plt.show()"
      ],
      "metadata": {
        "colab": {
          "base_uri": "https://localhost:8080/",
          "height": 651
        },
        "id": "d8WBNRQgomDy",
        "outputId": "6866ad85-9054-43f4-9781-47ecae4ef3c4"
      },
      "execution_count": 6,
      "outputs": [
        {
          "output_type": "stream",
          "name": "stderr",
          "text": [
            "<ipython-input-6-8ed8c8faeeb0>:2: FutureWarning: \n",
            "\n",
            "Passing `palette` without assigning `hue` is deprecated and will be removed in v0.14.0. Assign the `x` variable to `hue` and set `legend=False` for the same effect.\n",
            "\n",
            "  sns.boxplot(x='Fraud_indicator', y='Transaction_Amount', data=df,palette='Set2')\n"
          ]
        },
        {
          "output_type": "display_data",
          "data": {
            "text/plain": [
              "<Figure size 1200x600 with 1 Axes>"
            ],
            "image/png": "[encoded data removed]"
          },
          "metadata": {}
        }
      ]
    },
    {
      "cell_type": "code",
      "source": [
        "plt.figure(figsize=(12, 6))\n",
        "sns.boxplot(x='Fraud_indicator', y='Vehicle_Speed', data=df,palette='Set2')\n",
        "plt.title('Vehicle Speed vs Fraud Indicator')\n",
        "plt.show()"
      ],
      "metadata": {
        "colab": {
          "base_uri": "https://localhost:8080/",
          "height": 651
        },
        "id": "ANNQtdCOpXab",
        "outputId": "398e9f50-7348-4c7d-81c3-69e3a9fea491"
      },
      "execution_count": 7,
      "outputs": [
        {
          "output_type": "stream",
          "name": "stderr",
          "text": [
            "<ipython-input-7-d817340e82e8>:2: FutureWarning: \n",
            "\n",
            "Passing `palette` without assigning `hue` is deprecated and will be removed in v0.14.0. Assign the `x` variable to `hue` and set `legend=False` for the same effect.\n",
            "\n",
            "  sns.boxplot(x='Fraud_indicator', y='Vehicle_Speed', data=df,palette='Set2')\n"
          ]
        },
        {
          "output_type": "display_data",
          "data": {
            "text/plain": [
              "<Figure size 1200x600 with 1 Axes>"
            ],
            "image/png": "[encoded data removed]"
          },
          "metadata": {}
        }
      ]
    },
    {
      "cell_type": "markdown",
      "source": [
        "# Preprocessing"
      ],
      "metadata": {
        "id": "yTuoxLKgIxdi"
      }
    },
    {
      "cell_type": "code",
      "source": [
        "df.isnull().sum()"
      ],
      "metadata": {
        "colab": {
          "base_uri": "https://localhost:8080/"
        },
        "id": "08NyQxsRIhBB",
        "outputId": "bd0c6dd4-81cf-4ec8-bfb7-05960f0c2e29"
      },
      "execution_count": 8,
      "outputs": [
        {
          "output_type": "execute_result",
          "data": {
            "text/plain": [
              "Transaction_ID             0\n",
              "Timestamp                  0\n",
              "Vehicle_Type               0\n",
              "FastagID                 549\n",
              "TollBoothID                0\n",
              "Lane_Type                  0\n",
              "Vehicle_Dimensions         0\n",
              "Transaction_Amount         0\n",
              "Amount_paid                0\n",
              "Geographical_Location      0\n",
              "Vehicle_Speed              0\n",
              "Vehicle_Plate_Number       0\n",
              "Fraud_indicator            0\n",
              "dtype: int64"
            ]
          },
          "metadata": {},
          "execution_count": 8
        }
      ]
    },
    {
      "cell_type": "code",
      "source": [
        "df['FastagID'].fillna(df['FastagID'].mode()[0],inplace=True)"
      ],
      "metadata": {
        "id": "-sLGE6spIkly"
      },
      "execution_count": 9,
      "outputs": []
    },
    {
      "cell_type": "code",
      "source": [
        "df.isnull().sum()"
      ],
      "metadata": {
        "colab": {
          "base_uri": "https://localhost:8080/"
        },
        "id": "xY_Ju8LDI1li",
        "outputId": "28097587-fbeb-4b2b-addd-fdc8b8ac3a1d"
      },
      "execution_count": 10,
      "outputs": [
        {
          "output_type": "execute_result",
          "data": {
            "text/plain": [
              "Transaction_ID           0\n",
              "Timestamp                0\n",
              "Vehicle_Type             0\n",
              "FastagID                 0\n",
              "TollBoothID              0\n",
              "Lane_Type                0\n",
              "Vehicle_Dimensions       0\n",
              "Transaction_Amount       0\n",
              "Amount_paid              0\n",
              "Geographical_Location    0\n",
              "Vehicle_Speed            0\n",
              "Vehicle_Plate_Number     0\n",
              "Fraud_indicator          0\n",
              "dtype: int64"
            ]
          },
          "metadata": {},
          "execution_count": 10
        }
      ]
    },
    {
      "cell_type": "code",
      "source": [
        "df['Timestamp'] = pd.to_datetime(df['Timestamp'])\n",
        "df['Hour'] = df['Timestamp'].dt.hour\n",
        "df['Day'] = df['Timestamp'].dt.day\n",
        "df['Month'] = df['Timestamp'].dt.month\n",
        "df['Year'] = df['Timestamp'].dt.year"
      ],
      "metadata": {
        "id": "iJzlhxFLsURF"
      },
      "execution_count": 11,
      "outputs": []
    },
    {
      "cell_type": "code",
      "source": [
        "df.dtypes"
      ],
      "metadata": {
        "colab": {
          "base_uri": "https://localhost:8080/"
        },
        "id": "76C8Prt7sYv9",
        "outputId": "8a39997e-9918-47cf-bb95-19ae9833b9e5"
      },
      "execution_count": 12,
      "outputs": [
        {
          "output_type": "execute_result",
          "data": {
            "text/plain": [
              "Transaction_ID                    int64\n",
              "Timestamp                datetime64[ns]\n",
              "Vehicle_Type                     object\n",
              "FastagID                         object\n",
              "TollBoothID                      object\n",
              "Lane_Type                        object\n",
              "Vehicle_Dimensions               object\n",
              "Transaction_Amount                int64\n",
              "Amount_paid                       int64\n",
              "Geographical_Location            object\n",
              "Vehicle_Speed                     int64\n",
              "Vehicle_Plate_Number             object\n",
              "Fraud_indicator                  object\n",
              "Hour                              int32\n",
              "Day                               int32\n",
              "Month                             int32\n",
              "Year                              int32\n",
              "dtype: object"
            ]
          },
          "metadata": {},
          "execution_count": 12
        }
      ]
    },
    {
      "cell_type": "markdown",
      "source": [
        "# Feature Exctraction & Model Building"
      ],
      "metadata": {
        "id": "hJnFN57VI4LC"
      }
    },
    {
      "cell_type": "code",
      "source": [
        "import pandas as pd\n",
        "import numpy as np\n",
        "from sklearn.linear_model import LogisticRegression\n",
        "from sklearn.model_selection import train_test_split\n",
        "from sklearn.metrics import mean_absolute_error, mean_squared_error, r2_score\n",
        "from sklearn.preprocessing import StandardScaler, LabelEncoder\n",
        "\n",
        "# Drop original timestamp and non-numeric columns not required for the model\n",
        "df.drop(columns=['Transaction_ID', 'Timestamp', 'FastagID', 'TollBoothID'], inplace=True)\n",
        "\n",
        "# Encode categorical variables\n",
        "label_encoders = {}\n",
        "for column in ['Vehicle_Type', 'Lane_Type', 'Geographical_Location', 'Vehicle_Plate_Number', 'Vehicle_Dimensions']:\n",
        "    le = LabelEncoder()\n",
        "    df[column] = le.fit_transform(df[column])\n",
        "    label_encoders[column] = le\n",
        "\n",
        "# Convert 'Fraud_indicator' to binary values if necessary\n",
        "if df['Fraud_indicator'].dtype == 'object':\n",
        "    df['Fraud_indicator'] = df['Fraud_indicator'].map({'Not Fraud': 0, 'Fraud': 1})\n",
        "\n",
        "# Split the data into features and target variable\n",
        "X = df.drop(columns=['Fraud_indicator'])\n",
        "y = df['Fraud_indicator']\n",
        "\n",
        "# Train-test split\n",
        "X_train, X_test, y_train, y_test = train_test_split(X, y, test_size=0.33, random_state=42)\n",
        "\n",
        "# Feature scaling\n",
        "scaler = StandardScaler()\n",
        "X_train = scaler.fit_transform(X_train)\n",
        "X_test = scaler.transform(X_test)\n",
        "\n",
        "# Create a logistic regression model\n",
        "model = LogisticRegression(max_iter=1000)\n",
        "\n",
        "# Fit the model on the training data\n",
        "model.fit(X_train, y_train)\n",
        "\n",
        "# Make predictions on the test set\n",
        "y_pred = model.predict(X_test)"
      ],
      "metadata": {
        "id": "w4sk13oB5FMu"
      },
      "execution_count": 13,
      "outputs": []
    },
    {
      "cell_type": "markdown",
      "source": [
        "# Model Evaluation"
      ],
      "metadata": {
        "id": "oxyDi3I3ZANe"
      }
    },
    {
      "cell_type": "code",
      "source": [
        "# Calculate the performance metrics\n",
        "mae = mean_absolute_error(y_test, y_pred)\n",
        "mse = mean_squared_error(y_test, y_pred)\n",
        "rmse = np.sqrt(mse)\n",
        "r2 = r2_score(y_test, y_pred)\n",
        "\n",
        "# Print the results\n",
        "print(\"MAE:\", mae)\n",
        "print(\"MSE:\", mse)\n",
        "print(\"RMSE:\", rmse)\n",
        "print(\"R2 Score:\", r2)"
      ],
      "metadata": {
        "id": "svvpWEXhY9SY",
        "colab": {
          "base_uri": "https://localhost:8080/"
        },
        "outputId": "ae7402cf-302b-4445-c7ce-9e5d01a61b88"
      },
      "execution_count": 14,
      "outputs": [
        {
          "output_type": "stream",
          "name": "stdout",
          "text": [
            "MAE: 0.048484848484848485\n",
            "MSE: 0.048484848484848485\n",
            "RMSE: 0.2201927530252721\n",
            "R2 Score: 0.7157622739018088\n"
          ]
        }
      ]
    }
  ]
}